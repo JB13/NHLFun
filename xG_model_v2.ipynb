{
 "cells": [
  {
   "cell_type": "code",
   "execution_count": null,
   "metadata": {},
   "outputs": [],
   "source": [
    "# Version 2\n"
   ]
  },
  {
   "cell_type": "markdown",
   "metadata": {},
   "source": [
    "# Version 2\n",
    "\n",
    "Some things I need to address in this version:\n",
    "\n",
    "1. Currently the model has no understanding of empty nets\n",
    "2. Currently, 5x4 / 4x5 refers to home and away, so the model doesn't know if the shot is coming from the powerplay or penalty kill\n",
    "3. Should also include missed shots (go from shots to fenwick, can't do Corsi because blocked shots don't show shot origin)"
   ]
  }
 ],
 "metadata": {
  "language_info": {
   "name": "python"
  }
 },
 "nbformat": 4,
 "nbformat_minor": 2
}
