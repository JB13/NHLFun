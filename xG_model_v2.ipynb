{
 "cells": [
  {
   "cell_type": "code",
   "execution_count": null,
   "metadata": {},
   "outputs": [],
   "source": [
    "# Version 2\n"
   ]
  },
  {
   "cell_type": "markdown",
   "metadata": {},
   "source": [
    "# Version 2\n",
    "\n",
    "Some things I need to address in this version:\n",
    "\n",
    "1. Currently the model has no understanding of empty nets\n",
    "2. Currently, 5x4 / 4x5 refers to home and away, so the model doesn't know if the shot is coming from the powerplay or penalty kill\n",
    "3. Should also include missed shots (go from shots to fenwick, can't do Corsi because blocked shots don't show shot origin)\n",
    "\n",
    "\n",
    "4/26, Currently don't understand what a 5x3 is, but working on it!"
   ]
  },
  {
   "cell_type": "code",
   "execution_count": 3,
   "metadata": {},
   "outputs": [],
   "source": [
    "import pandas as pd\n",
    "import numpy as np\n",
    "import torch\n",
    "from torch import nn\n",
    "from torch.utils.data import DataLoader\n",
    "from torchvision import datasets, transforms\n",
    "\n",
    "import seaborn as sns\n",
    "import matplotlib.pyplot as plt\n",
    "\n",
    "import data_prep"
   ]
  },
  {
   "cell_type": "code",
   "execution_count": 16,
   "metadata": {},
   "outputs": [],
   "source": [
    "def create_input_data_from_csv(path_to_csv):\n",
    "    df = pd.read_csv(path_to_csv)\n",
    "\n",
    "    # get list of ilocs of rows where the 'Event' column is 'GOAL or SHOT or MISS'\n",
    "    goal_shot_rows = df.loc[df['Event'].isin(['GOAL', 'SHOT', 'MISS'])]\n",
    "\n",
    "    # shift the dataframe by 1 row\n",
    "    shifted_df = df.shift(1)\n",
    "    shifted_df.columns = ['prev_' + name for name in df.columns]\n",
    "\n",
    "    # combine goal_shot_rows with shifted_df, but using rows from goal_shot_rows\n",
    "    goal_shot_rows = pd.concat([goal_shot_rows, shifted_df.loc[goal_shot_rows.index]], axis=1)\n",
    "\n",
    "    goal_shot_rows = goal_shot_rows[goal_shot_rows['Period'] != 0]\n",
    "    goal_shot_rows = goal_shot_rows[goal_shot_rows['Period'] != 5]\n",
    "\n",
    "    # Create \"home_or_away\" column based on if \"Ev_team\" is the same as \"Home_Team\" or \"Away_Team\"\n",
    "    goal_shot_rows['home_or_away'] = goal_shot_rows.apply(lambda x: 'home' if x['Ev_Team'] == x['Home_Team'] else 'away', axis=1)\n",
    "    \n",
    "    # check to see if on power play if \"home_or_away\" is equal to \"home\" and \"Strength\" is equal to \"5x4\" or \"home_or_away\" is equal to \"away\" and \"Strength\" is equal to \"4x5\"\n",
    "    goal_shot_rows['true_strength'] = goal_shot_rows.apply(lambda x: \"5v4\" if (x['home_or_away'] == 'home' and x['Strength'] == '5x4' ) or (x['home_or_away'] == 'away' and x['Strength'] == '4x5') else \"5v5\", axis=1)\n",
    "\n",
    "    # check to see if a shot is on an empty net by checking if home_or_away is equal to \"home\" and \"Away_Goalie\" is equal to \"None\" or home_or_away is equal to \"away\" and \"Home_Goalie\" is equal to \"None\"\n",
    "    goal_shot_rows['on_empty_net'] = goal_shot_rows.apply(lambda x: 1 if (x['home_or_away'] == 'home' and x['Away_Goalie'] == '') or (x['home_or_away'] == 'away' and x['Home_Goalie'] == '') else 0, axis=1)\n",
    "\n",
    "\n",
    "    val_input_data = goal_shot_rows[['Event', 'Period', 'Seconds_Elapsed', 'Strength', 'Type', 'xC', 'yC', 'home_or_away', 'true_strength', 'on_empty_net', 'prev_Event', 'prev_Period', 'prev_Seconds_Elapsed', 'prev_Strength', 'prev_Type', 'prev_xC', 'prev_yC']]\n",
    "    val_result_data = goal_shot_rows['Event']\n",
    "    val_result_data = val_result_data.apply(lambda x: 1 if x == \"GOAL\" else 0)\n",
    "\n",
    "    val_input_data = val_input_data.drop(columns=['Event'])\n",
    "\n",
    "    # Split out the data between numeric values (can carry forward) and categorical values (need to be turned into binary columns)\n",
    "    val_input_data_numeric = val_input_data[['Period', 'Seconds_Elapsed', 'xC', 'yC', 'on_empty_net','prev_Seconds_Elapsed', 'prev_xC', 'prev_yC']]\n",
    "    val_input_data_categorical = pd.DataFrame()\n",
    "\n",
    "    for column in ['Type', 'prev_Event', 'true_strength', 'home_or_away']:\n",
    "        dummy_columns = pd.get_dummies(val_input_data[column])\n",
    "        val_input_data_categorical = pd.concat([dummy_columns, val_input_data_categorical], axis=1)\n",
    "\n",
    "    for column in ['prev_Event', 'prev_Strength', 'prev_Type']:\n",
    "        dummy_columns = pd.get_dummies(val_input_data[column])\n",
    "\n",
    "        # rename all columns with a prefix of \"prev_\"\n",
    "        dummy_columns.columns = ['prev_' + str(col) for col in dummy_columns.columns]\n",
    "        val_input_data_categorical = pd.concat([val_input_data_categorical, dummy_columns], axis=1)\n",
    "        \n",
    "    # change all True/False to 1/0\n",
    "    val_input_data_categorical = val_input_data_categorical.applymap(lambda x: 1 if x == True else 0)\n",
    "\n",
    "    # combine the two dataframes\n",
    "    val_input_data_combined = pd.concat([val_input_data_numeric, val_input_data_categorical], axis=1)\n",
    "\n",
    "    #set val_input_data2 to be all floats\n",
    "    val_input_data_combined = val_input_data_combined.astype(float)\n",
    "\n",
    "    columns = ['Period', 'Seconds_Elapsed', 'xC', 'yC', 'prev_Seconds_Elapsed',\n",
    "            'prev_xC', 'prev_yC', 'BLOCK', 'CHL', 'DELPEN', 'FAC', 'GIVE', 'HIT',\n",
    "            'MISS', 'PENL', 'SHOT', 'STOP', 'TAKE', 'BACKHAND', 'DEFLECTED',\n",
    "            'SLAP SHOT', 'SNAP SHOT', 'TIP-IN', 'WRAP-AROUND', 'WRIST SHOT', '0x0',\n",
    "            '3x3', '3x4', '3x5', '4x3', '4x4', '4x5', '5x3', '5x4', '5x5', '6x5',\n",
    "            'on_empty_net', 'away', 'home', '5v4', '5v5',\n",
    "            'prev_BLOCK', 'prev_CHL', 'prev_DELPEN', 'prev_FAC', 'prev_GIVE',\n",
    "            'prev_HIT', 'prev_MISS', 'prev_PENL', 'prev_SHOT', 'prev_STOP',\n",
    "            'prev_TAKE', 'prev_0x5', 'prev_3x3', 'prev_3x4', 'prev_3x5', 'prev_4x3',\n",
    "            'prev_4x4', 'prev_4x5', 'prev_5x3', 'prev_5x4', 'prev_5x5', 'prev_5x6',\n",
    "            'prev_BACKHAND', 'prev_DEFLECTED',\n",
    "            'prev_PS-Covering puck in crease(0 min)',\n",
    "            'prev_PS-Goalkeeper displaced net(0 min)',\n",
    "            'prev_PS-Holding on breakaway(0 min)',\n",
    "            'prev_PS-Hooking on breakaway(0 min)',\n",
    "            'prev_PS-Slash on breakaway(0 min)',\n",
    "            'prev_PS-Throw object at puck(0 min)',\n",
    "            'prev_PS-Tripping on breakaway(0 min)', 'prev_SLAP SHOT',\n",
    "            'prev_SNAP SHOT', 'prev_TIP-IN', 'prev_WRAP-AROUND', 'prev_WRIST SHOT']\n",
    "\n",
    "    # For each column in input_data_combined, check if it exists in val_input_data_combined, if not add it as all 0s\n",
    "    for column in columns:\n",
    "        if column not in val_input_data_combined.columns:\n",
    "                val_input_data_combined[column] = 0\n",
    "\n",
    "    for column in val_input_data_combined.columns:\n",
    "        if column not in columns:\n",
    "                if column in val_input_data_combined.columns:\n",
    "                    print(f\"Column {column} not in columns\")\n",
    "                    val_input_data_combined = val_input_data_combined.drop(column, axis=1)\n",
    "\n",
    "\n",
    "    # reduce val_input_data_combined to have the same columns as input_data_combined\n",
    "    val_input_data_combined = val_input_data_combined[columns]\n",
    "\n",
    "    # change all NaN numbers to 0\n",
    "    val_input_data_combined = val_input_data_combined.fillna(0)\n",
    "\n",
    "    print(val_input_data_combined.shape)\n",
    "\n",
    "    return val_input_data_combined, val_result_data, goal_shot_rows"
   ]
  },
  {
   "cell_type": "code",
   "execution_count": 17,
   "metadata": {},
   "outputs": [
    {
     "name": "stderr",
     "output_type": "stream",
     "text": [
      "C:\\Users\\JoshG\\AppData\\Local\\Temp\\ipykernel_33408\\4254043929.py:49: FutureWarning: DataFrame.applymap has been deprecated. Use DataFrame.map instead.\n",
      "  val_input_data_categorical = val_input_data_categorical.applymap(lambda x: 1 if x == True else 0)\n"
     ]
    },
    {
     "name": "stdout",
     "output_type": "stream",
     "text": [
      "Column prev_6x5 not in columns\n",
      "Column prev_GY #8 TANEV PS-Hooking on breakaway(0 min) not in columns\n",
      "(121992, 77)\n"
     ]
    }
   ],
   "source": [
    "input_data, result_data, original_input = create_input_data_from_csv(r\"C:\\Users\\JoshG\\hockey_scraper_data\\csvs\\nhl_pbp_20222023.csv\")"
   ]
  },
  {
   "cell_type": "code",
   "execution_count": 19,
   "metadata": {},
   "outputs": [
    {
     "name": "stdout",
     "output_type": "stream",
     "text": [
      "Using device: cuda\n",
      "\n",
      "Sequential(\n",
      "  (0): Linear(in_features=77, out_features=120, bias=True)\n",
      "  (1): ReLU()\n",
      "  (2): Linear(in_features=120, out_features=60, bias=True)\n",
      "  (3): ReLU()\n",
      "  (4): Linear(in_features=60, out_features=1, bias=True)\n",
      "  (5): Sigmoid()\n",
      ")\n"
     ]
    }
   ],
   "source": [
    "# setting device on GPU if available, else CPU\n",
    "device = torch.device('cuda' if torch.cuda.is_available() else 'cpu')\n",
    "print('Using device:', device)\n",
    "print()\n",
    "\n",
    "x = torch.tensor(input_data.values, dtype=torch.float32)\n",
    "y = torch.tensor(result_data.values, dtype=torch.float32)\n",
    "\n",
    "x.to(device)\n",
    "y.to(device)\n",
    "\n",
    "model = nn.Sequential(\n",
    "    nn.Linear(77, 120),\n",
    "    nn.ReLU(),\n",
    "    nn.Linear(120, 60),\n",
    "    nn.ReLU(),\n",
    "    nn.Linear(60, 1),\n",
    "    nn.Sigmoid()\n",
    ")\n",
    "\n",
    "print(model)\n",
    "\n",
    "model.to(device)\n",
    "\n",
    "\n",
    "loss_fn = nn.BCELoss()  # binary cross entropy\n",
    "loss_fn.to(device)\n",
    "optimizer = torch.optim.Adam(model.parameters(), lr=0.001)\n"
   ]
  },
  {
   "cell_type": "code",
   "execution_count": null,
   "metadata": {},
   "outputs": [],
   "source": [
    "n_epochs = 1000000\n",
    "batch_size = 10000\n",
    " \n",
    "for epoch in range(n_epochs):\n",
    "    for i in range(0, len(x), batch_size):\n",
    "        Xbatch = x[i:i+batch_size]\n",
    "        y_pred = model(Xbatch.cuda())\n",
    "        ybatch = y[i:i+batch_size]\n",
    "        #loss = loss_fn(y_pred, ybatch)\n",
    "        loss = loss_fn(y_pred.squeeze(), ybatch.cuda())\n",
    "        optimizer.zero_grad()\n",
    "        loss.backward()\n",
    "        optimizer.step()\n",
    "    print(f'{epoch}, {loss}')\n",
    "\n",
    "\n",
    "# compute accuracy (no_grad is optional)\n",
    "y_pred = model(x.cuda()).cuda()\n",
    " \n",
    "accuracy = (y_pred.round() == y.cuda()).float().mean()\n",
    "print(f\"Accuracy {accuracy}\")\n",
    "\n",
    "torch.save(model.state_dict(), '0426Model_1000k.pt')"
   ]
  }
 ],
 "metadata": {
  "kernelspec": {
   "display_name": "Python 3",
   "language": "python",
   "name": "python3"
  },
  "language_info": {
   "codemirror_mode": {
    "name": "ipython",
    "version": 3
   },
   "file_extension": ".py",
   "mimetype": "text/x-python",
   "name": "python",
   "nbconvert_exporter": "python",
   "pygments_lexer": "ipython3",
   "version": "3.11.7"
  }
 },
 "nbformat": 4,
 "nbformat_minor": 2
}
